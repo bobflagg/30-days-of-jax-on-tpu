{
 "cells": [
  {
   "cell_type": "markdown",
   "id": "c6b969cf",
   "metadata": {},
   "source": [
    "- [Text Classification Using Flax (JAX) Networks](https://coderzcolumn.com/tutorials/artificial-intelligence/text-classification-using-flax-jax-networks)"
   ]
  },
  {
   "cell_type": "code",
   "execution_count": 1,
   "id": "170f2763",
   "metadata": {},
   "outputs": [
    {
     "data": {
      "text/html": [
       "<style>.container { width:100% !important; }</style>"
      ],
      "text/plain": [
       "<IPython.core.display.HTML object>"
      ]
     },
     "metadata": {},
     "output_type": "display_data"
    }
   ],
   "source": [
    "from IPython.display import display, HTML\n",
    "display(HTML(\"<style>.container { width:100% !important; }</style>\"))\n",
    "\n",
    "%load_ext autoreload\n",
    "%autoreload 2"
   ]
  },
  {
   "cell_type": "code",
   "execution_count": 13,
   "id": "6b951d97",
   "metadata": {},
   "outputs": [],
   "source": [
    "import optax\n"
   ]
  },
  {
   "cell_type": "code",
   "execution_count": 2,
   "id": "190a8bc9",
   "metadata": {},
   "outputs": [
    {
     "data": {
      "text/plain": [
       "(2928,\n",
       " 1950,\n",
       " array([0, 1, 2, 3, 4]),\n",
       " {0: 'comp.sys.mac.hardware',\n",
       "  1: 'comp.windows.x',\n",
       "  2: 'rec.motorcycles',\n",
       "  3: 'sci.crypt',\n",
       "  4: 'talk.politics.mideast'})"
      ]
     },
     "execution_count": 2,
     "metadata": {},
     "output_type": "execute_result"
    }
   ],
   "source": [
    "import numpy as np\n",
    "from sklearn import datasets\n",
    "#import gc\n",
    "\n",
    "all_categories = ['alt.atheism','comp.graphics','comp.os.ms-windows.misc','comp.sys.ibm.pc.hardware',\n",
    "                  'comp.sys.mac.hardware','comp.windows.x', 'misc.forsale','rec.autos','rec.motorcycles',\n",
    "                  'rec.sport.baseball','rec.sport.hockey','sci.crypt','sci.electronics','sci.med',\n",
    "                  'sci.space','soc.religion.christian','talk.politics.guns','talk.politics.mideast',\n",
    "                  'talk.politics.misc','talk.religion.misc']\n",
    "\n",
    "selected_categories = ['comp.sys.mac.hardware','comp.windows.x','rec.motorcycles','sci.crypt','talk.politics.mideast']\n",
    "\n",
    "X_train_text, Y_train = datasets.fetch_20newsgroups(subset=\"train\", categories=selected_categories, return_X_y=True)\n",
    "X_test_text , Y_test  = datasets.fetch_20newsgroups(subset=\"test\", categories=selected_categories, return_X_y=True)\n",
    "\n",
    "X_train_text = np.array(X_train_text)\n",
    "X_test_text = np.array(X_test_text)\n",
    "\n",
    "classes = np.unique(Y_train)\n",
    "mapping = dict(zip(classes, selected_categories))\n",
    "\n",
    "len(X_train_text), len(X_test_text), classes, mapping\n"
   ]
  },
  {
   "cell_type": "code",
   "execution_count": 3,
   "id": "9a58d25a",
   "metadata": {},
   "outputs": [
    {
     "name": "stderr",
     "output_type": "stream",
     "text": [
      "tcmalloc: large alloc 1296752640 bytes == 0x55aacea2e000 @  0x7fe596d12680 0x7fe596d322ec 0x7fe58d1ed4a6 0x7fe58d1ed576 0x7fe58d22fec5 0x7fe58d2cccee 0x7fe58d2cd50a 0x7fe58d2cd73e 0x55aa794bce14 0x55aa79480ac9 0x7fe58d21cc24 0x55aa794bce39 0x55aa79476caf 0x55aa7951080a 0x55aa794d1663 0x55aa794d2354 0x55aa7943a755 0x55aa794d1663 0x55aa7957e45c 0x55aa794d245b 0x55aa795b564e 0x55aa794dbc51 0x55aa79438ae6 0x55aa794c6f1b 0x55aa795161be 0x55aa794c6f1b 0x55aa795161be 0x55aa794c6f1b 0x55aa794dc674 0x55aa7943a72f 0x55aa794d2284\n"
     ]
    },
    {
     "data": {
      "text/plain": [
       "((2928, 50000), (1950, 50000))"
      ]
     },
     "execution_count": 3,
     "metadata": {},
     "output_type": "execute_result"
    }
   ],
   "source": [
    "import sklearn\n",
    "from jax import numpy as jnp\n",
    "from sklearn.feature_extraction.text import CountVectorizer\n",
    "\n",
    "vectorizer = CountVectorizer(max_features=50000)\n",
    "\n",
    "vectorizer.fit(np.concatenate((X_train_text, X_test_text)))\n",
    "X_train = vectorizer.transform(X_train_text)\n",
    "X_test = vectorizer.transform(X_test_text)\n",
    "\n",
    "X_train = jnp.array(X_train.toarray(), dtype=jnp.float16)\n",
    "X_test  = jnp.array(X_test.toarray(), dtype=jnp.float16)\n",
    "\n",
    "X_train.shape, X_test.shape\n",
    "\n"
   ]
  },
  {
   "cell_type": "code",
   "execution_count": 6,
   "id": "cea93ba6",
   "metadata": {},
   "outputs": [
    {
     "data": {
      "text/plain": [
       "462"
      ]
     },
     "execution_count": 6,
     "metadata": {},
     "output_type": "execute_result"
    }
   ],
   "source": [
    "import gc\n",
    "\n",
    "gc.collect()\n"
   ]
  },
  {
   "cell_type": "code",
   "execution_count": 7,
   "id": "f9de38b5",
   "metadata": {},
   "outputs": [],
   "source": [
    "from flax import linen\n",
    "from jax import random\n",
    "\n",
    "class TextClassifier(linen.Module):\n",
    "    def setup(self):\n",
    "        self.linear1 = linen.Dense(features=128, name=\"DENSE1\")\n",
    "        self.linear2 = linen.Dense(features=64, name=\"DENSE2\")\n",
    "        self.linear3 = linen.Dense(len(classes), name=\"DENSE3\")\n",
    "\n",
    "    def __call__(self, inputs):\n",
    "        x = linen.relu(self.linear1(inputs))\n",
    "        x = linen.relu(self.linear2(x))\n",
    "        logits = self.linear3(x)\n",
    "\n",
    "        return logits #linen.softmax(x)\n"
   ]
  },
  {
   "cell_type": "code",
   "execution_count": 8,
   "id": "45dc8a69",
   "metadata": {},
   "outputs": [
    {
     "name": "stdout",
     "output_type": "stream",
     "text": [
      "Layer Name : DENSE1\n",
      "\tLayer Weights : (50000, 128), Biases : (128,)\n",
      "Layer Name : DENSE2\n",
      "\tLayer Weights : (128, 64), Biases : (64,)\n",
      "Layer Name : DENSE3\n",
      "\tLayer Weights : (64, 5), Biases : (5,)\n"
     ]
    }
   ],
   "source": [
    "seed = jax.random.PRNGKey(0)\n",
    "\n",
    "model = TextClassifier()\n",
    "params = model.init(seed, X_train[:5])\n",
    "\n",
    "for layer_params in params[\"params\"].items():\n",
    "    print(\"Layer Name : {}\".format(layer_params[0]))\n",
    "    weights, biases = layer_params[1][\"kernel\"], layer_params[1][\"bias\"]\n",
    "    print(\"\\tLayer Weights : {}, Biases : {}\".format(weights.shape, biases.shape))\n",
    "\n"
   ]
  },
  {
   "cell_type": "code",
   "execution_count": 9,
   "id": "5c6f2170",
   "metadata": {},
   "outputs": [
    {
     "data": {
      "text/plain": [
       "(5, 5)"
      ]
     },
     "execution_count": 9,
     "metadata": {},
     "output_type": "execute_result"
    }
   ],
   "source": [
    "preds = model.apply(params, X_train[:5])\n",
    "\n",
    "preds.shape\n",
    "\n"
   ]
  },
  {
   "cell_type": "code",
   "execution_count": 10,
   "id": "6c1841dc",
   "metadata": {},
   "outputs": [],
   "source": [
    "def CrossEntropyLoss(weights, input_data, actual):\n",
    "    logits_preds = model.apply(weights, input_data)\n",
    "    one_hot_actual = jax.nn.one_hot(actual, num_classes=len(classes))\n",
    "    return optax.softmax_cross_entropy(logits=logits_preds, labels=one_hot_actual).sum()\n",
    "\n"
   ]
  },
  {
   "cell_type": "code",
   "execution_count": 11,
   "id": "9a1c6e01",
   "metadata": {},
   "outputs": [],
   "source": [
    "from jax import value_and_grad\n",
    "from tqdm import tqdm\n",
    "from sklearn.metrics import accuracy_score\n",
    "\n",
    "def TrainModelInBatches(X, Y, X_val, Y_val, epochs, weights, optimizer_state, batch_size=32):\n",
    "    for i in range(1, epochs+1):\n",
    "        batches = jnp.arange((X.shape[0]//batch_size)+1) ### Batch Indices\n",
    "\n",
    "        losses = [] ## Record loss of each batch\n",
    "        for batch in tqdm(batches):\n",
    "            if batch != batches[-1]:\n",
    "                start, end = int(batch*batch_size), int(batch*batch_size+batch_size)\n",
    "            else:\n",
    "                start, end = int(batch*batch_size), None\n",
    "\n",
    "            X_batch, Y_batch = X[start:end], Y[start:end] ## Single batch of data\n",
    "\n",
    "            loss, gradients = value_and_grad(CrossEntropyLoss)(weights, X_batch,Y_batch)\n",
    "\n",
    "            ## Update Weights\n",
    "            updates, optimizer_state = optimizer.update(gradients, optimizer_state)\n",
    "            weights = optax.apply_updates(weights, updates)\n",
    "\n",
    "            losses.append(loss) ## Record Loss\n",
    "\n",
    "        print(\"CrossEntropyLoss : {:.3f}\".format(jnp.array(losses).mean()))\n",
    "\n",
    "        Y_val_preds = model.apply(weights, X_val)\n",
    "        val_acc = accuracy_score(Y_val, jnp.argmax(Y_val_preds, axis=1))\n",
    "        print(\"Validation  Accuracy : {:.3f}\".format(val_acc))\n",
    "\n",
    "    return weights\n",
    "\n"
   ]
  },
  {
   "cell_type": "code",
   "execution_count": 14,
   "id": "ffe04cb2",
   "metadata": {},
   "outputs": [
    {
     "name": "stderr",
     "output_type": "stream",
     "text": [
      "100%|███████████████████████████████████████████████████████████████████████████████████████████████████████████████████████████████████████████████████████████████████| 12/12 [00:06<00:00,  1.98it/s]\n"
     ]
    },
    {
     "name": "stdout",
     "output_type": "stream",
     "text": [
      "CrossEntropyLoss : 279.461\n",
      "Validation  Accuracy : 0.949\n"
     ]
    },
    {
     "name": "stderr",
     "output_type": "stream",
     "text": [
      "100%|███████████████████████████████████████████████████████████████████████████████████████████████████████████████████████████████████████████████████████████████████| 12/12 [00:01<00:00, 10.00it/s]\n"
     ]
    },
    {
     "name": "stdout",
     "output_type": "stream",
     "text": [
      "CrossEntropyLoss : 62.105\n",
      "Validation  Accuracy : 0.957\n"
     ]
    },
    {
     "name": "stderr",
     "output_type": "stream",
     "text": [
      "100%|███████████████████████████████████████████████████████████████████████████████████████████████████████████████████████████████████████████████████████████████████| 12/12 [00:01<00:00,  9.27it/s]\n"
     ]
    },
    {
     "name": "stdout",
     "output_type": "stream",
     "text": [
      "CrossEntropyLoss : 13.602\n",
      "Validation  Accuracy : 0.969\n"
     ]
    },
    {
     "name": "stderr",
     "output_type": "stream",
     "text": [
      "100%|███████████████████████████████████████████████████████████████████████████████████████████████████████████████████████████████████████████████████████████████████| 12/12 [00:01<00:00,  9.79it/s]\n"
     ]
    },
    {
     "name": "stdout",
     "output_type": "stream",
     "text": [
      "CrossEntropyLoss : 4.436\n",
      "Validation  Accuracy : 0.966\n"
     ]
    },
    {
     "name": "stderr",
     "output_type": "stream",
     "text": [
      "100%|███████████████████████████████████████████████████████████████████████████████████████████████████████████████████████████████████████████████████████████████████| 12/12 [00:01<00:00,  9.86it/s]\n"
     ]
    },
    {
     "name": "stdout",
     "output_type": "stream",
     "text": [
      "CrossEntropyLoss : 1.980\n",
      "Validation  Accuracy : 0.967\n"
     ]
    },
    {
     "name": "stderr",
     "output_type": "stream",
     "text": [
      "100%|███████████████████████████████████████████████████████████████████████████████████████████████████████████████████████████████████████████████████████████████████| 12/12 [00:01<00:00,  9.89it/s]\n"
     ]
    },
    {
     "name": "stdout",
     "output_type": "stream",
     "text": [
      "CrossEntropyLoss : 1.137\n",
      "Validation  Accuracy : 0.967\n"
     ]
    },
    {
     "name": "stderr",
     "output_type": "stream",
     "text": [
      "100%|███████████████████████████████████████████████████████████████████████████████████████████████████████████████████████████████████████████████████████████████████| 12/12 [00:01<00:00,  9.99it/s]\n"
     ]
    },
    {
     "name": "stdout",
     "output_type": "stream",
     "text": [
      "CrossEntropyLoss : 0.764\n",
      "Validation  Accuracy : 0.967\n"
     ]
    },
    {
     "name": "stderr",
     "output_type": "stream",
     "text": [
      "100%|███████████████████████████████████████████████████████████████████████████████████████████████████████████████████████████████████████████████████████████████████| 12/12 [00:01<00:00,  9.90it/s]"
     ]
    },
    {
     "name": "stdout",
     "output_type": "stream",
     "text": [
      "CrossEntropyLoss : 0.560\n",
      "Validation  Accuracy : 0.966\n"
     ]
    },
    {
     "name": "stderr",
     "output_type": "stream",
     "text": [
      "\n"
     ]
    }
   ],
   "source": [
    "seed = random.PRNGKey(0)\n",
    "batch_size=256\n",
    "epochs=8\n",
    "learning_rate = jnp.array(1/1e3)\n",
    "\n",
    "model = TextClassifier()\n",
    "weights = model.init(seed, X_train[:5])\n",
    "\n",
    "optimizer = optax.adam(learning_rate=learning_rate)\n",
    "optimizer_state = optimizer.init(weights)\n",
    "\n",
    "final_weights = TrainModelInBatches(X_train, Y_train, X_test, Y_test, epochs, weights, optimizer_state, batch_size=batch_size)\n"
   ]
  },
  {
   "cell_type": "code",
   "execution_count": null,
   "id": "2221c43a",
   "metadata": {},
   "outputs": [],
   "source": []
  }
 ],
 "metadata": {
  "kernelspec": {
   "display_name": "Python 3 (ipykernel)",
   "language": "python",
   "name": "python3"
  },
  "language_info": {
   "codemirror_mode": {
    "name": "ipython",
    "version": 3
   },
   "file_extension": ".py",
   "mimetype": "text/x-python",
   "name": "python",
   "nbconvert_exporter": "python",
   "pygments_lexer": "ipython3",
   "version": "3.9.12"
  }
 },
 "nbformat": 4,
 "nbformat_minor": 5
}
